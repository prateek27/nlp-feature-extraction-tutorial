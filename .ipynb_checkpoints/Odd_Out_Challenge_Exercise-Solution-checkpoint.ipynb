{
 "cells": [
  {
   "cell_type": "markdown",
   "metadata": {},
   "source": [
    "### Odd One Out Challenge | Solution"
   ]
  },
  {
   "cell_type": "markdown",
   "metadata": {},
   "source": [
    "In this exercise you will learn to Play with Gensim, which is a popular Python Package useful for NLP.\n",
    "We will use Google's pretrained Word2Vec model  which has representations of about 50 billion words, and each word has 300 features. \n",
    "Pretrained Model is downloaded from here [here](https://drive.google.com/uc?id=0B7XkCwpI5KDYNlNUTTlSS21pQmM&export=download) and already loaded in the notebook."
   ]
  },
  {
   "cell_type": "code",
   "execution_count": 28,
   "metadata": {},
   "outputs": [],
   "source": [
    "import gensim\n",
    "from gensim.models import word2vec\n",
    "from gensim.models import KeyedVectors\n",
    "from sklearn.metrics.pairwise import cosine_similarity"
   ]
  },
  {
   "cell_type": "markdown",
   "metadata": {},
   "source": [
    "## Exercise"
   ]
  },
  {
   "cell_type": "code",
   "execution_count": 18,
   "metadata": {},
   "outputs": [],
   "source": [
    "word_vectors = KeyedVectors.load_word2vec_format('GoogleNews-vectors-negative300.bin',binary=True)"
   ]
  },
  {
   "cell_type": "code",
   "execution_count": 106,
   "metadata": {},
   "outputs": [],
   "source": [
    "\n",
    "def odd_one_out_challenge(words):\n",
    "    \"\"\"Function accepts words- which is a list of strings, and returns the word which is odd one out\"\"\"\n",
    "    \n",
    "    all_word_vectors = [word_vectors[w] for w in words]\n",
    "    avg_word_vector  = np.mean(all_word_vectors,axis=0)\n",
    "        \n",
    "    odd_one_out = None\n",
    "    min_similarity = 100 #Very High Value\n",
    "    \n",
    "    \n",
    "    for w in words:\n",
    "        similarity = cosine_similarity([word_vectors[w]],[avg_word_vector])\n",
    "        if similarity < min_similarity:\n",
    "            min_similarity = similarity \n",
    "            odd_one_out = w\n",
    "        \n",
    "        print(\"Similarity between %s and avg vector is %.2f\"%(w,similarity))\n",
    "    \n",
    "    print(\"Odd One out is %s\"%odd_one_out)\n",
    "    return odd_one_out\n",
    "    \n",
    "    \n",
    "    "
   ]
  },
  {
   "cell_type": "markdown",
   "metadata": {},
   "source": [
    "### Testcases"
   ]
  },
  {
   "cell_type": "code",
   "execution_count": 107,
   "metadata": {},
   "outputs": [],
   "source": [
    "input_1 = [\"apple\",\"mango\",\"juice\",\"party\",\"orange\"]\n",
    "input_2 = [\"music\",\"dance\",\"sleep\",\"dancer\",\"food\"]        \n",
    "input_3  = [\"match\",\"player\",\"football\",\"cricket\",\"dancer\"]\n",
    "input_4 = [\"india\",\"paris\",\"russia\",\"france\",\"germany\"]\n"
   ]
  },
  {
   "cell_type": "code",
   "execution_count": 108,
   "metadata": {},
   "outputs": [
    {
     "name": "stdout",
     "output_type": "stream",
     "text": [
      "Similarity between apple and avg vector is 0.78\n",
      "Similarity between mango and avg vector is 0.76\n",
      "Similarity between juice and avg vector is 0.71\n",
      "Similarity between party and avg vector is 0.36\n",
      "Similarity between orange and avg vector is 0.65\n",
      "Odd One out is party\n"
     ]
    },
    {
     "data": {
      "text/plain": [
       "'party'"
      ]
     },
     "execution_count": 108,
     "metadata": {},
     "output_type": "execute_result"
    }
   ],
   "source": [
    "#odd_one_out_challenge(words[0])\n",
    "odd_one_out_challenge(input_1)"
   ]
  },
  {
   "cell_type": "code",
   "execution_count": 109,
   "metadata": {},
   "outputs": [
    {
     "name": "stdout",
     "output_type": "stream",
     "text": [
      "Similarity between music and avg vector is 0.66\n",
      "Similarity between dance and avg vector is 0.81\n",
      "Similarity between sleep and avg vector is 0.51\n",
      "Similarity between dancer and avg vector is 0.72\n",
      "Similarity between food and avg vector is 0.52\n",
      "Odd One out is sleep\n"
     ]
    },
    {
     "data": {
      "text/plain": [
       "'sleep'"
      ]
     },
     "execution_count": 109,
     "metadata": {},
     "output_type": "execute_result"
    }
   ],
   "source": [
    "odd_one_out_challenge(input_2)"
   ]
  },
  {
   "cell_type": "code",
   "execution_count": 110,
   "metadata": {},
   "outputs": [
    {
     "name": "stdout",
     "output_type": "stream",
     "text": [
      "Similarity between match and avg vector is 0.58\n",
      "Similarity between player and avg vector is 0.68\n",
      "Similarity between football and avg vector is 0.72\n",
      "Similarity between cricket and avg vector is 0.70\n",
      "Similarity between dancer and avg vector is 0.53\n",
      "Odd One out is dancer\n"
     ]
    },
    {
     "data": {
      "text/plain": [
       "'dancer'"
      ]
     },
     "execution_count": 110,
     "metadata": {},
     "output_type": "execute_result"
    }
   ],
   "source": [
    "odd_one_out_challenge(input_3)"
   ]
  },
  {
   "cell_type": "code",
   "execution_count": 111,
   "metadata": {},
   "outputs": [
    {
     "name": "stdout",
     "output_type": "stream",
     "text": [
      "Similarity between india and avg vector is 0.81\n",
      "Similarity between paris and avg vector is 0.75\n",
      "Similarity between russia and avg vector is 0.79\n",
      "Similarity between france and avg vector is 0.81\n",
      "Similarity between germany and avg vector is 0.84\n",
      "Odd One out is paris\n"
     ]
    },
    {
     "data": {
      "text/plain": [
       "'paris'"
      ]
     },
     "execution_count": 111,
     "metadata": {},
     "output_type": "execute_result"
    }
   ],
   "source": [
    "odd_one_out_challenge(input_4)"
   ]
  },
  {
   "cell_type": "code",
   "execution_count": null,
   "metadata": {},
   "outputs": [],
   "source": []
  },
  {
   "cell_type": "code",
   "execution_count": null,
   "metadata": {},
   "outputs": [],
   "source": []
  },
  {
   "cell_type": "code",
   "execution_count": null,
   "metadata": {},
   "outputs": [],
   "source": []
  }
 ],
 "metadata": {
  "kernelspec": {
   "display_name": "Python 3",
   "language": "python",
   "name": "python3"
  },
  "language_info": {
   "codemirror_mode": {
    "name": "ipython",
    "version": 3
   },
   "file_extension": ".py",
   "mimetype": "text/x-python",
   "name": "python",
   "nbconvert_exporter": "python",
   "pygments_lexer": "ipython3",
   "version": "3.6.1"
  }
 },
 "nbformat": 4,
 "nbformat_minor": 2
}
