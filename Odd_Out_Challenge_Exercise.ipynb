{
 "cells": [
  {
   "cell_type": "markdown",
   "metadata": {},
   "source": [
    "### Odd One Out Challenge \n",
    "### Exercise"
   ]
  },
  {
   "cell_type": "markdown",
   "metadata": {},
   "source": [
    "In this exercise you will learn to work with Word2Vec model using Gensim, which is a popular Python Package and useful for NLP. We will use Gensim to load Google's pretrained Word2Vec model  which has representations of about 50 billion words, and each word has 300 features. We will use these features to solve an Odd Out Challenge. You will given a list of words in the input and you have to find out the odd word(least similarity) with others.\n",
    "\n",
    "\n",
    "To start with we have already loaded Word2Vec model for you. You can access word vector associated with any word using `word_vectors[\"sample_word\"]`. Try to do `word_vectors[\"apple\"]` and print its shape. \n",
    "\n",
    "You will extract word vectors for each word in the input and then find out their average feature vector using `np.mean(...,axis=1)`. Then you will find similarity of each word with average vector using `cosine_similarity` function of sklearn. The word having least similarity with average vector is the Odd One Out word! \n"
   ]
  },
  {
   "cell_type": "markdown",
   "metadata": {},
   "source": [
    "### Instructions\n",
    "\n",
    "1. Create a list of `all_word_vectors` containing word vectors corresponding to each word. Input `words` is a list of words.\n",
    "2. Find  the avg_word_vector using `np.mean`\n",
    "3. Find the word which has minimum similarity with average_word_vector using `cosine_similarity` and return it. Remember to set shape of word vectors as (1,No_of_Features) while computing cosine similarity.\n"
   ]
  },
  {
   "cell_type": "code",
   "execution_count": 113,
   "metadata": {},
   "outputs": [],
   "source": [
    "import gensim\n",
    "from gensim.models import word2vec\n",
    "from gensim.models import KeyedVectors\n",
    "from sklearn.metrics.pairwise import cosine_similarity"
   ]
  },
  {
   "cell_type": "code",
   "execution_count": 18,
   "metadata": {},
   "outputs": [],
   "source": [
    "word_vectors = KeyedVectors.load_word2vec_format('GoogleNews-vectors-negative300.bin',binary=True)"
   ]
  },
  {
   "cell_type": "code",
   "execution_count": null,
   "metadata": {},
   "outputs": [],
   "source": [
    "\n",
    "def odd_one_out_challenge(words):\n",
    "    \"\"\"Function accepts words- which is a list of strings, and returns the word which is odd one out\"\"\"\n",
    "    \n",
    "    #Create a list of words vectors for every word in words\n",
    "    all_word_vectors = _ _ _ _\n",
    "    avg_word_vector  = _ _ _ _\n",
    "        \n",
    "    # Initialisation\n",
    "    odd_one_out = None\n",
    "    min_similarity = _ _ _  #Very High Value\n",
    "    \n",
    "    for w in words:\n",
    "        similarity = _ _ _ _\n",
    "        if similarity < _ _ _ _:\n",
    "            min_similarity = _ _ _ _ \n",
    "            odd_one_out = _ _ _ _\n",
    "        \n",
    "        print(\"Similarity between %s and avg vector is %.2f\"%(w,similarity))\n",
    "    \n",
    "    print(\"Odd One out is %s\"%odd_one_out)\n",
    "    return odd_one_out\n",
    "    \n",
    "    \n",
    "    "
   ]
  }
 ],
 "metadata": {
  "kernelspec": {
   "display_name": "Python 3",
   "language": "python",
   "name": "python3"
  },
  "language_info": {
   "codemirror_mode": {
    "name": "ipython",
    "version": 3
   },
   "file_extension": ".py",
   "mimetype": "text/x-python",
   "name": "python",
   "nbconvert_exporter": "python",
   "pygments_lexer": "ipython3",
   "version": "3.6.1"
  }
 },
 "nbformat": 4,
 "nbformat_minor": 2
}
